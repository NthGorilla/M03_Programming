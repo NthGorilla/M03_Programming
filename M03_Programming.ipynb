{
 "cells": [
  {
   "cell_type": "code",
   "execution_count": null,
   "id": "b1e386ef-e0a9-4a43-92d8-e6cca1d98dc1",
   "metadata": {},
   "outputs": [],
   "source": [
    "#7.4 \n",
    "\n",
    "things = ['mozzarella', 'cinderella', 'salmonella']\n"
   ]
  },
  {
   "cell_type": "code",
   "execution_count": 3,
   "id": "b53ef57d-bfb3-470e-a4af-513e269471ab",
   "metadata": {},
   "outputs": [
    {
     "name": "stdout",
     "output_type": "stream",
     "text": [
      "After capitalizing 'cinderella': ['mozzarella', 'Cinderella', 'salmonella']\n"
     ]
    }
   ],
   "source": [
    "#7.5\n",
    "\n",
    "things = ['mozzarella', 'cinderella', 'salmonella']\n",
    "\n",
    "things[1] = things[1].capitalize()\n",
    "print(\"After capitalizing 'cinderella':\", things)\n",
    "\n",
    "#Yes, it did change the element in the list."
   ]
  },
  {
   "cell_type": "code",
   "execution_count": 5,
   "id": "680bca5e-4c72-482a-a3f2-0cf79c5c0a0b",
   "metadata": {},
   "outputs": [
    {
     "name": "stdout",
     "output_type": "stream",
     "text": [
      "After converting 'mozzarella' to uppercase: ['MOZZARELLA', 'cinderella', 'salmonella']\n"
     ]
    }
   ],
   "source": [
    "#7.6 \n",
    "\n",
    "things = ['mozzarella', 'cinderella', 'salmonella']\n",
    "\n",
    "things[0] = things[0].upper()\n",
    "print(\"After converting 'mozzarella' to uppercase:\", things)"
   ]
  },
  {
   "cell_type": "code",
   "execution_count": 7,
   "id": "65aa2fa6-f462-4518-872f-b0f20cc9ff2e",
   "metadata": {},
   "outputs": [
    {
     "name": "stdout",
     "output_type": "stream",
     "text": [
      "After removing 'salmonella': ['mozzarella', 'cinderella']\n"
     ]
    }
   ],
   "source": [
    "#7.7\n",
    "\n",
    "things = ['mozzarella', 'cinderella', 'salmonella']\n",
    "\n",
    "things.remove(\"salmonella\")\n",
    "print(\"After removing 'salmonella':\", things)"
   ]
  },
  {
   "cell_type": "code",
   "execution_count": 12,
   "id": "71d6091f-25fd-4c02-bb97-6af40c2b4a5d",
   "metadata": {},
   "outputs": [
    {
     "data": {
      "text/plain": [
       "['Harry', 'Ron', 'Hermoine']"
      ]
     },
     "execution_count": 12,
     "metadata": {},
     "output_type": "execute_result"
    }
   ],
   "source": [
    "#9.1 \n",
    "\n",
    "def good():\n",
    "    return ['Harry', 'Ron', 'Hermoine']\n",
    "    \n",
    "good()"
   ]
  },
  {
   "cell_type": "code",
   "execution_count": 23,
   "id": "221fe04a-ae4a-489a-9979-3c15ce38c9c0",
   "metadata": {},
   "outputs": [
    {
     "name": "stdout",
     "output_type": "stream",
     "text": [
      "5\n"
     ]
    }
   ],
   "source": [
    "#9.2 \n",
    "\n",
    "def get_odds():\n",
    "    for number in range(0,10):\n",
    "        if number % 2 != 0:\n",
    "            yield number\n",
    "\n",
    "count = 0\n",
    "for num in get_odds():\n",
    "    if count == 2:\n",
    "        print(num)\n",
    "        break\n",
    "    count += 1"
   ]
  },
  {
   "cell_type": "code",
   "execution_count": null,
   "id": "bee53371-5332-4e74-874b-49ab190a7534",
   "metadata": {},
   "outputs": [],
   "source": []
  }
 ],
 "metadata": {
  "kernelspec": {
   "display_name": "Python 3 (ipykernel)",
   "language": "python",
   "name": "python3"
  },
  "language_info": {
   "codemirror_mode": {
    "name": "ipython",
    "version": 3
   },
   "file_extension": ".py",
   "mimetype": "text/x-python",
   "name": "python",
   "nbconvert_exporter": "python",
   "pygments_lexer": "ipython3",
   "version": "3.12.7"
  }
 },
 "nbformat": 4,
 "nbformat_minor": 5
}
